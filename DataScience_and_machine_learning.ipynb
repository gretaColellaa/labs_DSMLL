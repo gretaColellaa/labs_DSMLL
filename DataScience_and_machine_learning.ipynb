{
  "nbformat": 4,
  "nbformat_minor": 0,
  "metadata": {
    "colab": {
      "provenance": [],
      "toc_visible": true,
      "authorship_tag": "ABX9TyP3ZNYfVaeC5tnBZi2ojyVz",
      "include_colab_link": true
    },
    "kernelspec": {
      "name": "python3",
      "display_name": "Python 3"
    },
    "language_info": {
      "name": "python"
    }
  },
  "cells": [
    {
      "cell_type": "markdown",
      "metadata": {
        "id": "view-in-github",
        "colab_type": "text"
      },
      "source": [
        "<a href=\"https://colab.research.google.com/github/gretaColellaa/labs_DSMLL/blob/main/DataScience_and_machine_learning.ipynb\" target=\"_parent\"><img src=\"https://colab.research.google.com/assets/colab-badge.svg\" alt=\"Open In Colab\"/></a>"
      ]
    },
    {
      "cell_type": "markdown",
      "source": [],
      "metadata": {
        "id": "QiAxQl2zHQox"
      }
    },
    {
      "cell_type": "markdown",
      "source": [
        "# Lab1\n"
      ],
      "metadata": {
        "id": "-poj3UZ0HNBe"
      }
    }
  ]
}